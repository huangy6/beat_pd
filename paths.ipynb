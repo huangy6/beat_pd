{
 "cells": [
  {
   "cell_type": "code",
   "execution_count": 19,
   "metadata": {},
   "outputs": [],
   "source": [
    "import pandas as pd\n",
    "from os.path import join\n",
    "from shutil import copyfile\n",
    "import os"
   ]
  },
  {
   "cell_type": "code",
   "execution_count": 20,
   "metadata": {},
   "outputs": [],
   "source": [
    "# Fill in these paths appropriately\n",
    "\n",
    "PATH_TO_CISPD_TRAIN_LABELS_DIR = join(\"data\", \"cis-pd\", \"data_labels\")\n",
    "PATH_TO_CISPD_TRAIN_MEASUREMENTS_DIR = join(\"data\", \"cis-pd\", \"training_data\")\n",
    "PATH_TO_CISPD_TEST_LABELS_DIR = join(\"data\", \"test_set\", \"cis-pd\")\n",
    "PATH_TO_CISPD_TEST_MEASUREMENTS_DIR = join(\"data\", \"test_set\", \"cis-pd\", \"testing_data\")\n",
    "\n",
    "PATH_TO_REALPD_TRAIN_LABELS_DIR = join(\"data\", \"real-pd\", \"data_labels\")\n",
    "PATH_TO_REALPD_TRAIN_MEASUREMENTS_DIR = join(\"data\", \"real-pd\", \"training_data\")\n",
    "PATH_TO_REALPD_TEST_LABELS_DIR = join(\"data\", \"test_set\", \"real-pd\")\n",
    "PATH_TO_REALPD_TEST_MEASUREMENTS_DIR = join(\"data\", \"test_set\", \"real-pd\", \"testing_data\")\n",
    "\n",
    "PATH_TO_BEAT_PD_DIR = join(\"..\", \"beat_pd\")"
   ]
  },
  {
   "cell_type": "code",
   "execution_count": 21,
   "metadata": {},
   "outputs": [],
   "source": [
    "train_manifest_df = pd.DataFrame()\n",
    "test_manifest_df = pd.DataFrame()\n",
    "\n",
    "train_labels_df = pd.DataFrame()"
   ]
  },
  {
   "cell_type": "code",
   "execution_count": 22,
   "metadata": {},
   "outputs": [],
   "source": [
    "df = pd.read_csv(join(PATH_TO_CISPD_TRAIN_LABELS_DIR, \"CIS-PD_Training_Data_IDs_Labels.csv\"))\n",
    "df[\"subject_id\"] = df[\"subject_id\"].astype(str)\n",
    "\n",
    "cohort = \"cispd\"\n",
    "device = \"smartwatch\"\n",
    "instrument = \"accelerometer\"\n",
    "\n",
    "for index, row in df.iterrows():\n",
    "    measurement_id =row['measurement_id']\n",
    "    subject_id = row['subject_id']\n",
    "    source_file_path = join(PATH_TO_CISPD_TRAIN_MEASUREMENTS_DIR, measurement_id + \".csv\")\n",
    "    m_file = f\"{cohort}_{device}_{instrument}_{subject_id}_{measurement_id}.csv\"\n",
    "    target_file_path = join(PATH_TO_BEAT_PD_DIR, \"data\", \"raw\", \"train\", m_file)\n",
    "    copyfile(source_file_path, target_file_path)\n",
    "    \n",
    "    train_manifest_df = train_manifest_df.append({\n",
    "        \"measurement_id\": measurement_id,\n",
    "        \"measurement_file\": m_file,\n",
    "        \"subject_id\": subject_id,\n",
    "        \"cohort\": cohort,\n",
    "        \"device\": device,\n",
    "        \"instrument\": instrument\n",
    "    }, ignore_index=True)\n",
    "train_labels_df = train_labels_df.append(df, ignore_index=True)"
   ]
  },
  {
   "cell_type": "code",
   "execution_count": 23,
   "metadata": {},
   "outputs": [],
   "source": [
    "df = pd.read_csv(join(PATH_TO_CISPD_TEST_LABELS_DIR, \"cis-pd.CIS-PD_Test_Data_IDs.csv\"))\n",
    "df[\"subject_id\"] = df[\"subject_id\"].astype(str)\n",
    "\n",
    "cohort = \"cispd\"\n",
    "device = \"smartwatch\"\n",
    "instrument = \"accelerometer\"\n",
    "\n",
    "for index, row in df.iterrows():\n",
    "    measurement_id =row['measurement_id']\n",
    "    subject_id = row['subject_id']\n",
    "    source_file_path = join(PATH_TO_CISPD_TEST_MEASUREMENTS_DIR, measurement_id + \".csv\")\n",
    "    m_file = f\"{cohort}_{device}_{instrument}_{subject_id}_{measurement_id}.csv\"\n",
    "    target_file_path = join(PATH_TO_BEAT_PD_DIR, \"data\", \"raw\", \"test\", m_file)\n",
    "    copyfile(source_file_path, target_file_path)\n",
    "    \n",
    "    test_manifest_df = test_manifest_df.append({\n",
    "        \"measurement_id\": measurement_id,\n",
    "        \"measurement_file\": m_file,\n",
    "        \"subject_id\": subject_id,\n",
    "        \"cohort\": cohort,\n",
    "        \"device\": device,\n",
    "        \"instrument\": instrument\n",
    "    }, ignore_index=True)\n"
   ]
  },
  {
   "cell_type": "code",
   "execution_count": 24,
   "metadata": {},
   "outputs": [],
   "source": [
    "df = pd.read_csv(join(PATH_TO_REALPD_TRAIN_LABELS_DIR, \"REAL-PD_Training_Data_IDs_Labels.csv\"), index_col=0)\n",
    "df[\"subject_id\"] = df[\"subject_id\"].astype(str)\n",
    "\n",
    "cohort = \"realpd\"\n",
    "\n",
    "for d_i in [\"smartphone_accelerometer\", \"smartwatch_accelerometer\", \"smartwatch_gyroscope\"]:\n",
    "    device = d_i.split(\"_\")[0]\n",
    "    instrument = d_i.split(\"_\")[1]\n",
    "\n",
    "    for filename in os.listdir(join(PATH_TO_REALPD_TRAIN_MEASUREMENTS_DIR, d_i)):\n",
    "\n",
    "        measurement_id = filename[:-4]\n",
    "        subject_id = df.at[measurement_id, \"subject_id\"]\n",
    "\n",
    "        source_file_path = join(PATH_TO_REALPD_TRAIN_MEASUREMENTS_DIR, d_i, measurement_id + \".csv\")\n",
    "        m_file = f\"{cohort}_{device}_{instrument}_{subject_id}_{measurement_id}.csv\"\n",
    "        target_file_path = join(PATH_TO_BEAT_PD_DIR, \"data\", \"raw\", \"train\", m_file)\n",
    "        copyfile(source_file_path, target_file_path)\n",
    "\n",
    "        train_manifest_df = train_manifest_df.append({\n",
    "            \"measurement_id\": measurement_id,\n",
    "            \"measurement_file\": m_file,\n",
    "            \"subject_id\": subject_id,\n",
    "            \"cohort\": cohort,\n",
    "            \"device\": device,\n",
    "            \"instrument\": instrument\n",
    "        }, ignore_index=True)\n",
    "train_labels_df = train_labels_df.append(df.reset_index(), ignore_index=True)"
   ]
  },
  {
   "cell_type": "code",
   "execution_count": 25,
   "metadata": {},
   "outputs": [],
   "source": [
    "df = pd.read_csv(join(PATH_TO_REALPD_TEST_LABELS_DIR, \"real-pd.REAL-PD_Test_Data_IDs.csv\"), index_col=0)\n",
    "df[\"subject_id\"] = df[\"subject_id\"].astype(str)\n",
    "\n",
    "cohort = \"realpd\"\n",
    "\n",
    "for d_i in [\"smartphone_accelerometer\", \"smartwatch_accelerometer\", \"smartwatch_gyroscope\"]:\n",
    "    device = d_i.split(\"_\")[0]\n",
    "    instrument = d_i.split(\"_\")[1]\n",
    "\n",
    "    for filename in os.listdir(join(PATH_TO_REALPD_TEST_MEASUREMENTS_DIR, d_i)):\n",
    "\n",
    "        measurement_id = filename[:-4]\n",
    "        subject_id = df.at[measurement_id, \"subject_id\"]\n",
    "\n",
    "        source_file_path = join(PATH_TO_REALPD_TEST_MEASUREMENTS_DIR, d_i, measurement_id + \".csv\")\n",
    "        m_file = f\"{cohort}_{device}_{instrument}_{subject_id}_{measurement_id}.csv\"\n",
    "        target_file_path = join(PATH_TO_BEAT_PD_DIR, \"data\", \"raw\", \"test\", m_file)\n",
    "        copyfile(source_file_path, target_file_path)\n",
    "\n",
    "        test_manifest_df = test_manifest_df.append({\n",
    "            \"measurement_id\": measurement_id,\n",
    "            \"measurement_file\": m_file,\n",
    "            \"subject_id\": subject_id,\n",
    "            \"cohort\": cohort,\n",
    "            \"device\": device,\n",
    "            \"instrument\": instrument\n",
    "        }, ignore_index=True)\n"
   ]
  },
  {
   "cell_type": "code",
   "execution_count": 26,
   "metadata": {},
   "outputs": [],
   "source": [
    "train_manifest_df[\"subject_id\"] = train_manifest_df[\"subject_id\"].astype(str)\n",
    "test_manifest_df[\"subject_id\"] = test_manifest_df[\"subject_id\"].astype(str)\n",
    "\n",
    "train_labels_df[\"subject_id\"] = train_labels_df[\"subject_id\"].astype(str)"
   ]
  },
  {
   "cell_type": "code",
   "execution_count": 27,
   "metadata": {},
   "outputs": [],
   "source": [
    "train_manifest_df.to_csv(join(PATH_TO_BEAT_PD_DIR, \"data\", \"raw\", \"train\", \"manifest.csv\"))\n",
    "test_manifest_df.to_csv(join(PATH_TO_BEAT_PD_DIR, \"data\", \"raw\", \"test\", \"manifest.csv\"))\n",
    "\n",
    "train_labels_df.to_csv(join(PATH_TO_BEAT_PD_DIR, \"data\", \"raw\", \"train\", \"labels.csv\"))"
   ]
  },
  {
   "cell_type": "code",
   "execution_count": null,
   "metadata": {},
   "outputs": [],
   "source": []
  },
  {
   "cell_type": "code",
   "execution_count": null,
   "metadata": {},
   "outputs": [],
   "source": []
  },
  {
   "cell_type": "code",
   "execution_count": null,
   "metadata": {},
   "outputs": [],
   "source": []
  },
  {
   "cell_type": "code",
   "execution_count": null,
   "metadata": {},
   "outputs": [],
   "source": []
  }
 ],
 "metadata": {
  "kernelspec": {
   "display_name": "Python 3",
   "language": "python",
   "name": "python3"
  },
  "language_info": {
   "codemirror_mode": {
    "name": "ipython",
    "version": 3
   },
   "file_extension": ".py",
   "mimetype": "text/x-python",
   "name": "python",
   "nbconvert_exporter": "python",
   "pygments_lexer": "ipython3",
   "version": "3.7.4"
  }
 },
 "nbformat": 4,
 "nbformat_minor": 2
}
